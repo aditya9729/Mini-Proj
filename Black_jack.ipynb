{
 "cells": [
  {
   "cell_type": "code",
   "execution_count": 1,
   "metadata": {
    "collapsed": true
   },
   "outputs": [],
   "source": [
    "import random\n",
    "playing=False\n",
    "chip_pool=100\n",
    "bet=1\n",
    "restart_phrase=\"Press 'd' to deal the cards again,else 'q' to quit:\"\n",
    "suits=('Hearts','Diamonds','Clubs','Spades')\n",
    "ranking=('A','2','3','4','5','6','7','8','9','10','J','Q','K')\n",
    "cardvalues={'A':1,'2':2,'3':3,'4':4,'5':5,'6':6,'7':7,'8':8,'9':9,'10':10,'J':10,'Q':10,'K':10}"
   ]
  },
  {
   "cell_type": "code",
   "execution_count": 2,
   "metadata": {
    "collapsed": true
   },
   "outputs": [],
   "source": [
    "class Card:\n",
    "    def __init__(self,suit,rank):\n",
    "        self.suit=suit\n",
    "        self.rank=rank\n",
    "    def __str__(self):\n",
    "        return self.rank +' of '+ self.suit\n",
    "    def grabsuit(self):\n",
    "        return self.suit\n",
    "    def grabrank(self):\n",
    "        return self.rank\n",
    "    def draw(self):\n",
    "        return (self.suit +' of '+ self.rank)\n",
    "    "
   ]
  },
  {
   "cell_type": "code",
   "execution_count": 3,
   "metadata": {
    "collapsed": true
   },
   "outputs": [],
   "source": [
    "class Hand:\n",
    "    def __init__(self):\n",
    "        self.cards=[]\n",
    "        self.value=0\n",
    "        self.ace=False\n",
    "        \n",
    "    def __str__(self):\n",
    "        hand=\"\"\n",
    "        for card in self.cards:\n",
    "            cardname=card.__str__()\n",
    "            hand+=\" \"+cardname\n",
    "        return 'the hand has %s'%hand\n",
    "    def card_add(self,card):\n",
    "        self.cards.append(card)\n",
    "        \n",
    "        if card.rank=='A':\n",
    "            self.ace=True\n",
    "        self.value +=cardvalues[card.rank]\n",
    "    def calc_val(self):\n",
    "        if (self.ace==True and self.value<12):\n",
    "            return self.value+10\n",
    "        else:\n",
    "            return self.value\n",
    "    def draw(self,hidden):\n",
    "        if hidden==True and playing==True:\n",
    "            starting_card=1\n",
    "        else:\n",
    "            starting_card=0\n",
    "        for x in range(starting_card,len(self.cards)):\n",
    "            self.cards[x].draw()"
   ]
  },
  {
   "cell_type": "code",
   "execution_count": 4,
   "metadata": {
    "collapsed": true
   },
   "outputs": [],
   "source": [
    "class Deck:\n",
    "    def __init__(self):\n",
    "        self.deck=[]\n",
    "        for suit in suits:\n",
    "            for rank in ranking:\n",
    "                self.deck.append(Card(suit,rank))\n",
    "    def shuffle(self):\n",
    "        random.shuffle(self.deck)\n",
    "    def deal(self):\n",
    "        single_card=self.deck.pop(0)\n",
    "        return single_card\n",
    "    def __str__(self):\n",
    "        deck=\"\"\n",
    "        for card in self.cards:\n",
    "            deck+=\" \"+deck.__str__()\n",
    "        return \"The deck has\"+deck    "
   ]
  },
  {
   "cell_type": "code",
   "execution_count": 5,
   "metadata": {
    "collapsed": true
   },
   "outputs": [],
   "source": [
    "def make_bet():\n",
    "    global bet\n",
    "    bet=0\n",
    "    print('What amount of chips would you like to bet?')\n",
    "    while bet==0:\n",
    "        bets=input()\n",
    "        bets=int(bets)\n",
    "        if bets>=1 and bets<=chip_pool:\n",
    "            bet=bets\n",
    "        else:\n",
    "            print('Invalid bet,you only have'+ str(chip_pool)+'remaining')\n",
    "            "
   ]
  },
  {
   "cell_type": "code",
   "execution_count": 6,
   "metadata": {
    "collapsed": true
   },
   "outputs": [],
   "source": [
    "def deal_cards():\n",
    "    global result,playing,deck,player_hand,dealer_hand,chip_pool,bet\n",
    "    deck=Deck()\n",
    "    deck.shuffle()\n",
    "    make_bet()\n",
    "    player_hand=Hand()\n",
    "    dealer_hand=Hand()\n",
    "    player_hand.card_add(deck.deal())\n",
    "    player_hand.card_add(deck.deal())\n",
    "    dealer_hand.card_add(deck.deal())\n",
    "    dealer_hand.card_add(deck.deal())\n",
    "    \n",
    "    result='Hit or stand? Press either h or s: '\n",
    "    if playing==True:\n",
    "        print('Fold,Sorry')\n",
    "        chip_pool-=bet\n",
    "    playing=True\n",
    "    game_step()\n",
    "    \n",
    "    "
   ]
  },
  {
   "cell_type": "code",
   "execution_count": 7,
   "metadata": {
    "collapsed": true
   },
   "outputs": [],
   "source": [
    "def hit():\n",
    "    global result,playing,deck,player_hand,dealer_hand,chip_pool,bet\n",
    "    if playing:\n",
    "        if player_hand.calc_val()<21:\n",
    "            player_hand.card_add(deck.deal())\n",
    "            \n",
    "        print('Player hand is %s'%player_hand)\n",
    "        if player_hand.calc_val()==21:\n",
    "            result=('Its a black jack congrats')+restart_phrase\n",
    "            chip_pool+=bet\n",
    "            playing=False\n",
    "            \n",
    "            \n",
    "        if player_hand.calc_val()>21:\n",
    "            result='Busted!'+restart_phrase\n",
    "            \n",
    "            chip_pool-=bet\n",
    "            playing=False\n",
    "    else:\n",
    "        result='Sorry,cant hit'+restart_phrase\n",
    "    game_step()    "
   ]
  },
  {
   "cell_type": "code",
   "execution_count": 8,
   "metadata": {
    "collapsed": true
   },
   "outputs": [],
   "source": [
    "def stand():\n",
    "    global result,playing,deck,player_hand,dealer_hand,chip_pool,bet\n",
    "    if playing==False:\n",
    "        if player_hand.calc_val()>0:\n",
    "            result='Sorry you cant stand!'\n",
    "    else:\n",
    "        while dealer_hand.calc_val()<17:\n",
    "            dealer_hand.card_add(deck.deal())\n",
    "        if dealer_hand.calc_val()>21:\n",
    "            result='Dealer busts! You win!'+ restart_phrase\n",
    "            chip_pool+=bet\n",
    "            playing=False\n",
    "        elif dealer_hand.calc_val()<player_hand.calc_val():\n",
    "            result='You beat the dealer,you win!'+restart_phrase\n",
    "            chip_pool+=bet\n",
    "            playing=False\n",
    "        elif dealer_hand.calc_val()==player_hand.calc_val():\n",
    "            result='Tied up,push!'+restart_phrase\n",
    "            playing=False\n",
    "        else:\n",
    "            result='Dealer wins!'+restart_phrase\n",
    "            chip_pool-=bet\n",
    "            playing=False\n",
    "    game_step()       \n",
    "        \n",
    "    "
   ]
  },
  {
   "cell_type": "code",
   "execution_count": 9,
   "metadata": {
    "collapsed": true
   },
   "outputs": [],
   "source": [
    "def game_step():\n",
    "    print(\"\")\n",
    "    print('Player Hand is :')\n",
    "    player_hand.draw(hidden=False)\n",
    "    print('Player hand total is: '+str(player_hand.calc_val()))\n",
    "    \n",
    "    print('Dealer Hand total is :')\n",
    "    dealer_hand.draw(hidden=True)\n",
    "    if playing==False:\n",
    "        print(\"--- for total of \"+str(dealer_hand.calc_val())+' and '+ \" \\n Your Chip Total: \"+str(chip_pool))\n",
    "    else:\n",
    "              print('with another card hidden upside down')\n",
    "    print(result)\n",
    "    player_input()\n",
    "              \n",
    "              "
   ]
  },
  {
   "cell_type": "code",
   "execution_count": 10,
   "metadata": {
    "collapsed": true
   },
   "outputs": [],
   "source": [
    "def game_exit():\n",
    "    print('Thanks for playing')\n",
    "    exit()"
   ]
  },
  {
   "cell_type": "code",
   "execution_count": 11,
   "metadata": {
    "collapsed": true
   },
   "outputs": [],
   "source": [
    "def player_input():\n",
    "    plin=input().lower()\n",
    "    if plin=='h':\n",
    "        hit()\n",
    "    elif plin=='s':\n",
    "        stand()\n",
    "    elif plin=='d':\n",
    "        deal_cards()\n",
    "    elif plin=='q':\n",
    "        game_exit()\n",
    "    else:\n",
    "        print('Invalid input..Enter h,s,d or q:')\n",
    "        player_input()"
   ]
  },
  {
   "cell_type": "code",
   "execution_count": 12,
   "metadata": {
    "collapsed": true
   },
   "outputs": [],
   "source": [
    "def intro():\n",
    "    statement='WELCOME TO BLACKJACK BITCHES ,GET A 21 TO WIN OR CLOSE\\n DEALER HITS UNTIL SHE REACHES 17.ACES COUNT AS 1OR 11.\\n CARD OUTPUT GOES A LETTER FOLLOWED BY FACE NOTATION'\n",
    "    print(statement)\n",
    "    \n",
    "    "
   ]
  },
  {
   "cell_type": "code",
   "execution_count": 13,
   "metadata": {
    "collapsed": true
   },
   "outputs": [],
   "source": [
    "def letsplay():\n",
    "    deck=Deck()\n",
    "    deck.shuffle()\n",
    "    player_hand=Hand()\n",
    "    dealer_hand=Hand()\n",
    "    intro()\n",
    "    deal_cards()"
   ]
  },
  {
   "cell_type": "code",
   "execution_count": 14,
   "metadata": {},
   "outputs": [
    {
     "name": "stdout",
     "output_type": "stream",
     "text": [
      "WELCOME TO BLACKJACK BITCHES ,GET A 21 TO WIN OR CLOSE\n",
      " DEALER HITS UNTIL SHE REACHES 17.ACES COUNT AS 1OR 11.\n",
      " CARD OUTPUT GOES A LETTER FOLLOWED BY FACE NOTATION\n",
      "What amount of chips would you like to bet?\n",
      "200\n",
      "Invalid bet,you only have100remaining\n",
      "8\n",
      "\n",
      "Player Hand is :\n",
      "Player hand total is: 10\n",
      "Dealer Hand total is :\n",
      "with another card hidden upside down\n",
      "Hit or stand? Press either h or s: \n",
      "h\n",
      "Player hand is the hand has  7 of Diamonds 3 of Hearts 3 of Spades\n",
      "\n",
      "Player Hand is :\n",
      "Player hand total is: 13\n",
      "Dealer Hand total is :\n",
      "with another card hidden upside down\n",
      "Hit or stand? Press either h or s: \n",
      "h\n",
      "Player hand is the hand has  7 of Diamonds 3 of Hearts 3 of Spades J of Clubs\n",
      "\n",
      "Player Hand is :\n",
      "Player hand total is: 23\n",
      "Dealer Hand total is :\n",
      "--- for total of 13 and  \n",
      " Your Chip Total: 92\n",
      "Busted!Press 'd' to deal the cards again,else 'q' to quit:\n",
      "d\n",
      "What amount of chips would you like to bet?\n",
      "10\n",
      "\n",
      "Player Hand is :\n",
      "Player hand total is: 18\n",
      "Dealer Hand total is :\n",
      "with another card hidden upside down\n",
      "Hit or stand? Press either h or s: \n",
      "s\n",
      "\n",
      "Player Hand is :\n",
      "Player hand total is: 18\n",
      "Dealer Hand total is :\n",
      "--- for total of 19 and  \n",
      " Your Chip Total: 82\n",
      "Dealer wins!Press 'd' to deal the cards again,else 'q' to quit:\n",
      "d\n",
      "What amount of chips would you like to bet?\n",
      "4\n",
      "\n",
      "Player Hand is :\n",
      "Player hand total is: 12\n",
      "Dealer Hand total is :\n",
      "with another card hidden upside down\n",
      "Hit or stand? Press either h or s: \n",
      "h\n",
      "Player hand is the hand has  5 of Spades 7 of Clubs Q of Diamonds\n",
      "\n",
      "Player Hand is :\n",
      "Player hand total is: 22\n",
      "Dealer Hand total is :\n",
      "--- for total of 15 and  \n",
      " Your Chip Total: 78\n",
      "Busted!Press 'd' to deal the cards again,else 'q' to quit:\n",
      "q\n",
      "Thanks for playing\n"
     ]
    }
   ],
   "source": [
    "letsplay()"
   ]
  },
  {
   "cell_type": "code",
   "execution_count": null,
   "metadata": {
    "collapsed": true
   },
   "outputs": [],
   "source": []
  }
 ],
 "metadata": {
  "kernelspec": {
   "display_name": "Python 3",
   "language": "python",
   "name": "python3"
  },
  "language_info": {
   "codemirror_mode": {
    "name": "ipython",
    "version": 3
   },
   "file_extension": ".py",
   "mimetype": "text/x-python",
   "name": "python",
   "nbconvert_exporter": "python",
   "pygments_lexer": "ipython3",
   "version": "3.6.4"
  }
 },
 "nbformat": 4,
 "nbformat_minor": 2
}
